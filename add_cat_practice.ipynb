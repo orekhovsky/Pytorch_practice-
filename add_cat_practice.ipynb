{
 "cells": [
  {
   "cell_type": "code",
   "execution_count": 1,
   "metadata": {},
   "outputs": [],
   "source": [
    "import torch"
   ]
  },
  {
   "cell_type": "code",
   "execution_count": 4,
   "metadata": {},
   "outputs": [],
   "source": [
    "tensor_001 = torch.tensor([[1,1],[2,2]])\n",
    "tensor_002 = torch.tensor([[3,3],[4,4]])\n",
    "tensor_cat = torch.cat([tensor_001,tensor_002])"
   ]
  },
  {
   "cell_type": "code",
   "execution_count": 5,
   "metadata": {},
   "outputs": [
    {
     "data": {
      "text/plain": [
       "tensor([[1, 1],\n",
       "        [2, 2]])"
      ]
     },
     "execution_count": 5,
     "metadata": {},
     "output_type": "execute_result"
    }
   ],
   "source": [
    "tensor_001"
   ]
  },
  {
   "cell_type": "code",
   "execution_count": 6,
   "metadata": {},
   "outputs": [
    {
     "data": {
      "text/plain": [
       "tensor([[3, 3],\n",
       "        [4, 4]])"
      ]
     },
     "execution_count": 6,
     "metadata": {},
     "output_type": "execute_result"
    }
   ],
   "source": [
    "tensor_002"
   ]
  },
  {
   "cell_type": "code",
   "execution_count": 7,
   "metadata": {},
   "outputs": [
    {
     "data": {
      "text/plain": [
       "tensor([[1, 1],\n",
       "        [2, 2],\n",
       "        [3, 3],\n",
       "        [4, 4]])"
      ]
     },
     "execution_count": 7,
     "metadata": {},
     "output_type": "execute_result"
    }
   ],
   "source": [
    "tensor_cat"
   ]
  },
  {
   "cell_type": "code",
   "execution_count": 11,
   "metadata": {},
   "outputs": [],
   "source": [
    "tensor_001 = torch.tensor([[1,1],[2,2]])\n",
    "tensor_002 = torch.tensor([[3,3],[4,4]])\n",
    "tensor_cat = torch.cat([tensor_001,tensor_002], dim=1)"
   ]
  },
  {
   "cell_type": "code",
   "execution_count": 20,
   "metadata": {},
   "outputs": [
    {
     "data": {
      "text/plain": [
       "torch.Size([2, 2])"
      ]
     },
     "execution_count": 20,
     "metadata": {},
     "output_type": "execute_result"
    }
   ],
   "source": [
    "tensor_001.shape"
   ]
  },
  {
   "cell_type": "code",
   "execution_count": 9,
   "metadata": {},
   "outputs": [
    {
     "data": {
      "text/plain": [
       "tensor([[1, 1, 3, 3],\n",
       "        [2, 2, 4, 4]])"
      ]
     },
     "execution_count": 9,
     "metadata": {},
     "output_type": "execute_result"
    }
   ],
   "source": [
    "tensor_cat"
   ]
  },
  {
   "cell_type": "code",
   "execution_count": 15,
   "metadata": {},
   "outputs": [
    {
     "name": "stdout",
     "output_type": "stream",
     "text": [
      "tensor([[1, 3],\n",
      "        [2, 2]])\n",
      "tensor([[3, 3],\n",
      "        [2, 2]])\n",
      "tensor([[False,  True],\n",
      "        [ True,  True]])\n",
      "tensor(False)\n"
     ]
    }
   ],
   "source": [
    "tensor_001 = torch.tensor([[1,3],[2,2]])\n",
    "tensor_002 = torch.tensor([[3,3],[2,2]])\n",
    "tensor_equal = tensor_001 == tensor_002\n",
    "tensor_all = torch.all(tensor_equal)\n",
    "\n",
    "print(tensor_001)\n",
    "print(tensor_002)\n",
    "print(tensor_equal)\n",
    "print(tensor_all)\n"
   ]
  },
  {
   "cell_type": "code",
   "execution_count": 18,
   "metadata": {},
   "outputs": [
    {
     "name": "stdout",
     "output_type": "stream",
     "text": [
      "tensor([[1, 3],\n",
      "        [2, 2]])\n",
      "tensor([[3, 3],\n",
      "        [2, 2]])\n",
      "tensor([[False,  True],\n",
      "        [ True,  True]])\n",
      "tensor([False,  True])\n"
     ]
    }
   ],
   "source": [
    "tensor_001 = torch.tensor([[1,3],[2,2]])\n",
    "tensor_002 = torch.tensor([[3,3],[2,2]])\n",
    "tensor_equal = tensor_001 == tensor_002\n",
    "tensor_all = torch.all(tensor_equal, dim=0)\n",
    "\n",
    "print(tensor_001)\n",
    "print(tensor_002)\n",
    "print(tensor_equal)\n",
    "print(tensor_all)"
   ]
  },
  {
   "cell_type": "markdown",
   "metadata": {},
   "source": [
    "### Practice"
   ]
  },
  {
   "cell_type": "code",
   "execution_count": 19,
   "metadata": {},
   "outputs": [
    {
     "data": {
      "text/plain": [
       "tensor([[4, 6],\n",
       "        [4, 4]])"
      ]
     },
     "execution_count": 19,
     "metadata": {},
     "output_type": "execute_result"
    }
   ],
   "source": [
    "torch.add(tensor_001, tensor_002)"
   ]
  },
  {
   "cell_type": "code",
   "execution_count": null,
   "metadata": {},
   "outputs": [],
   "source": []
  }
 ],
 "metadata": {
  "kernelspec": {
   "display_name": "Python 3",
   "language": "python",
   "name": "python3"
  },
  "language_info": {
   "codemirror_mode": {
    "name": "ipython",
    "version": 3
   },
   "file_extension": ".py",
   "mimetype": "text/x-python",
   "name": "python",
   "nbconvert_exporter": "python",
   "pygments_lexer": "ipython3",
   "version": "3.12.2"
  }
 },
 "nbformat": 4,
 "nbformat_minor": 2
}
