{
 "cells": [
  {
   "cell_type": "code",
   "execution_count": 1,
   "metadata": {},
   "outputs": [],
   "source": [
    "import torch\n",
    "import torchvision\n",
    "\n",
    "from torchvision.datasets import ImageFolder\n",
    "from torch.utils.data import Dataset, DataLoader, random_split\n",
    "\n",
    "###########################\n",
    "\n",
    "import os\n",
    "import json\n",
    "import numpy as np\n",
    "import matplotlib.pyplot as plt\n",
    "from PIL import Image"
   ]
  },
  {
   "cell_type": "markdown",
   "metadata": {},
   "source": [
    "# Создание данных"
   ]
  },
  {
   "cell_type": "code",
   "execution_count": 1,
   "metadata": {},
   "outputs": [],
   "source": [
    "import struct\n",
    "import sys\n",
    "from array import array\n",
    "from os import path"
   ]
  },
  {
   "cell_type": "markdown",
   "metadata": {},
   "source": [
    "# Загрузка данных (классификация)"
   ]
  },
  {
   "cell_type": "code",
   "execution_count": null,
   "metadata": {},
   "outputs": [],
   "source": [
    "import struct\n",
    "import sys\n",
    "from array import array\n",
    "from os import path\n",
    "import torchvision\n",
    "import os\n",
    "import numpy as np\n",
    "from PIL import Image\n",
    "\n",
    "MNIST_PATH = 'Users/1/OneDrive - НИТУ МИСиС/Учебное/Pytorch_practice-'\n",
    "\n",
    "train_mnist = torchvision.datasets.MNIST(root=MNIST_PATH, train=True,  download=True)\n",
    "test_minst  = torchvision.datasets.MNIST(root=MNIST_PATH, train=False, download=True)\n",
    "\n",
    "def read(dataset):\n",
    "    if dataset == 'training':\n",
    "        path_img = MNIST_PATH+\"/MNIST/raw/train-images-idx3-ubyte\"\n",
    "        path_lbl = MNIST_PATH+\"/MNIST/raw/train-labels-idx1-ubyte\"\n",
    "    elif dataset == \"testing\":\n",
    "        path_img = MNIST_PATH+\"/MNIST/raw/t10k-images-idx3-ubyte\"\n",
    "        path_lbl = MNIST_PATH+\"/MNIST/raw/t10k-labels-idx1-ubyte\"\n",
    "    else: \n",
    "        raise Exception(\"unknown dataset\")        \n",
    "        \n",
    "    with open(path_lbl, 'rb' ) as f_label:\n",
    "        _, size = struct.unpack(\">II\", f_label.read(8))\n",
    "        lbl=array(\"b\", f_label.read())\n",
    "        \n",
    "    with open(path_img, 'rb' ) as f_img:\n",
    "        _, size, rows, cols = struct.unpack(\">IIII\", f_img.read(16))\n",
    "        img=array(\"B\", f_img.read())    \n",
    "        \n",
    "    return lbl, img, size, rows, cols    \n",
    "    \n",
    "    \n",
    "def write_dataset(labels, data, size, rows, cols, output_dir):\n",
    "    classes = {i: f\"class_{i}\" for i in range(10)}\n",
    "\n",
    "    output_dirs = [\n",
    "        path.join(output_dir, classes[i])  for i in range (10)\n",
    "    ]\n",
    "    for dir in output_dirs:\n",
    "            if not path.exists(dir):\n",
    "                os.makedirs(dir)\n",
    "                \n",
    "    for(i, label) in enumerate(labels):\n",
    "        output_filename = path.join(output_dirs[label] , str(i)+\".jpg\")\n",
    "        #printing is too slow\n",
    "        #print(\"writing \" + output_filename)\n",
    "        \n",
    "        with open(output_filename, \"wb\") as h:\n",
    "            data_i = [\n",
    "                data[ (i*rows*cols + j*cols): (i*rows*cols + (j+1)*cols)]\n",
    "                for j in range(rows)\n",
    "            ]\n",
    "            data_array= np.asarray(data_i)            \n",
    "            im = Image.fromarray(data_array)\n",
    "            im.save(output_filename)\n",
    "            \n",
    "output_path = \"content/mnist\"            \n",
    "\n",
    "for dataset in [\"training\", \"testing\"]:\n",
    "    write_dataset(*read(dataset), path.join(output_path, dataset))"
   ]
  },
  {
   "cell_type": "markdown",
   "metadata": {},
   "source": [
    "# Загрузка данных (регрессия)"
   ]
  },
  {
   "cell_type": "code",
   "execution_count": null,
   "metadata": {},
   "outputs": [],
   "source": [
    "if not os.path.isdir(\"dataset\"):\n",
    "    os.mkdir(\"dataset\")\n",
    "\n",
    "img = np.random.randint(0,50, [100000, 64, 64], dtype = np.uint8)\n",
    "square = np.random.randint(100, 200, [100000, 15, 15], dtype=np.uint8)\n",
    "\n",
    "coords =  np.empty([100000, 2])\n",
    "\n",
    "data = {}\n",
    "\n",
    "for i in range(img.shape[0]):\n",
    "\n",
    "    x = np.random.randint(20,44)\n",
    "    y = np.random.randint(20,44)\n",
    "\n",
    "    img[i, (y-7):(y+8), (x-7):(x+8)] = square[i]\n",
    "\n",
    "    coords[i] = [y,x]\n",
    "\n",
    "    name_img = f\"ing_{i}.jpeg\"\n",
    "    path_img = os.path.join('dataset/',name_img)\n",
    "\n",
    "    image = Image.fromarray(img[i])\n",
    "    image.save(path_img)\n",
    "\n",
    "    data[name_img] = [y,x]\n",
    "\n",
    "with open ('dataset/coords.json', 'w') as f:\n",
    "    json.dump(data, f, indent=2)\n",
    "    "
   ]
  },
  {
   "cell_type": "markdown",
   "metadata": {},
   "source": [
    "# Пользовательский класс для данных (Классификация)"
   ]
  },
  {
   "cell_type": "code",
   "execution_count": null,
   "metadata": {},
   "outputs": [],
   "source": [
    "import os\n",
    "from PIL import Image\n",
    "import numpy as np\n",
    "from torch.utils.data import Dataset\n",
    "\n",
    "class MNISTDataset(Dataset):\n",
    "    def __init__(self, path, transform=None):\n",
    "        self.path = path\n",
    "        self.transform = transform\n",
    "\n",
    "        self.len_dataset = 0\n",
    "        self.data_list = []\n",
    "\n",
    "        for path_dir, dir_list, file_list in os.walk(path):\n",
    "            if path_dir == path:\n",
    "                self.classes = sorted(dir_list)\n",
    "                self.class_to_idx = {\n",
    "                    cls_name: i for i, cls_name in enumerate(self.classes)\n",
    "                }\n",
    "                continue\n",
    "\n",
    "            # Используем os.path.basename для определения имени класса\n",
    "            cls = os.path.basename(path_dir)\n",
    "\n",
    "            for name_file in file_list:\n",
    "                file_path = os.path.join(path_dir, name_file)\n",
    "                if cls in self.class_to_idx:\n",
    "                    self.data_list.append((file_path, self.class_to_idx[cls]))\n",
    "                else:\n",
    "                    raise KeyError(f\"Class '{cls}' not found in class_to_idx.\")\n",
    "\n",
    "            self.len_dataset += len(file_list)\n",
    "\n",
    "    def __len__(self):\n",
    "        return self.len_dataset\n",
    "\n",
    "    def __getitem__(self, index):\n",
    "        file_path, target = self.data_list[index]\n",
    "        sample = np.array(Image.open(file_path))\n",
    "\n",
    "        if self.transform is not None:\n",
    "            sample = self.transform(sample)\n",
    "\n",
    "        return sample, target\n"
   ]
  },
  {
   "cell_type": "code",
   "execution_count": null,
   "metadata": {},
   "outputs": [],
   "source": [
    "for path, dir_list, file_list in os.walk('/Users/1/OneDrive - НИТУ МИСиС/Учебное/Pytorch_practice-/mnist/training'):\n",
    "    print(f'class - {path.split(\"/\")[-1]}')\n",
    "    print(f' -- кол-во файлов {len(file_list)}')"
   ]
  },
  {
   "cell_type": "code",
   "execution_count": null,
   "metadata": {},
   "outputs": [],
   "source": [
    "os.path.join('/Users/1/OneDrive - НИТУ МИСиС/Учебное/Pytorch_practice-/mnist/training/class_2','1273.jpeg')"
   ]
  },
  {
   "cell_type": "code",
   "execution_count": null,
   "metadata": {},
   "outputs": [],
   "source": [
    "train_data = MNISTDataset('/Users/1/OneDrive - НИТУ МИСиС/Учебное/Pytorch_practice-/mnist/training')\n",
    "test_data = MNISTDataset('/Users/1/OneDrive - НИТУ МИСиС/Учебное/Pytorch_practice-/mnist/testing')\n",
    "train_data.classes"
   ]
  },
  {
   "cell_type": "code",
   "execution_count": null,
   "metadata": {},
   "outputs": [],
   "source": [
    "img, one_hot_position = train_data[34433]\n",
    "\n",
    "cls = train_data.classes[one_hot_position]\n",
    "print(f'Класс - {cls}')\n",
    "plt.imshow(img,cmap='gray')"
   ]
  },
  {
   "cell_type": "code",
   "execution_count": null,
   "metadata": {},
   "outputs": [],
   "source": [
    "train_data, val_data = random_split(train_data, [0.8, 0.2])\n",
    "print(len(train_data))\n",
    "print(len(val_data))\n",
    "print(len(test_data))"
   ]
  },
  {
   "cell_type": "code",
   "execution_count": null,
   "metadata": {},
   "outputs": [],
   "source": [
    "train_loader = DataLoader(train_data, batch_size=16, shuffle=True)\n",
    "val_loader = DataLoader(val_data, batch_size=16, shuffle=False)\n",
    "test_loader = DataLoader(test_data, batch_size=16, shuffle=False)"
   ]
  },
  {
   "cell_type": "code",
   "execution_count": null,
   "metadata": {},
   "outputs": [],
   "source": [
    "for i, (samples, target) in enumerate(train_loader):\n",
    "    if i <3:\n",
    "        print('Номер батча', i+1)\n",
    "        print(f\"Размер сэмпла = {samples.shape}\")\n",
    "        print(f\"Размер таргета = {target.shape}\")\n",
    "\n",
    "print('--------------')"
   ]
  },
  {
   "cell_type": "markdown",
   "metadata": {},
   "source": [
    "# Использование класса ImageFolder"
   ]
  },
  {
   "cell_type": "code",
   "execution_count": null,
   "metadata": {},
   "outputs": [],
   "source": [
    "train_data = ImageFolder(root='/Users/1/OneDrive - НИТУ МИСиС/Учебное/Pytorch_practice-/mnist/training')\n",
    "test_data = ImageFolder(root='/Users/1/OneDrive - НИТУ МИСиС/Учебное/Pytorch_practice-/mnist/testing')"
   ]
  },
  {
   "cell_type": "code",
   "execution_count": null,
   "metadata": {},
   "outputs": [],
   "source": [
    "img, one_hot_position = train_data[34433]\n",
    "\n",
    "cls = train_data.classes[one_hot_position]\n",
    "print(f'Класс - {cls}')\n",
    "plt.imshow(img,cmap='gray')"
   ]
  },
  {
   "cell_type": "code",
   "execution_count": null,
   "metadata": {},
   "outputs": [],
   "source": [
    "train_loader = DataLoader(train_data, batch_size=64, shuffle=True)\n",
    "val_loader = DataLoader(val_data, batch_size=64, shuffle=False)\n",
    "test_loader = DataLoader(test_data, batch_size=64, shuffle=False)"
   ]
  },
  {
   "cell_type": "markdown",
   "metadata": {},
   "source": [
    "# Данные для задачи регрессии"
   ]
  },
  {
   "cell_type": "code",
   "execution_count": null,
   "metadata": {},
   "outputs": [],
   "source": [
    "class DatasetReg(Dataset):\n",
    "    def __init__(self, path, transform=None):\n",
    "        self.path = path\n",
    "        self.transforn = transform\n",
    "\n",
    "        self.list_name_file = os.listdir(path)\n",
    "        if 'coords.json' in self.list_name_file:\n",
    "            self.list_name_file.remove('coords.json')\n",
    "\n",
    "        self.len_dataset = len(self.list_name_file)\n",
    "\n",
    "        with open(os.path.join(self.path, 'coords.json'), 'r') as f:\n",
    "            self.dict_coords = json.load(f)\n",
    "\n",
    "    def __len__(self):\n",
    "        return self.len_dataset\n",
    "    \n",
    "    def __getitem__(self, index):\n",
    "        name_file = self.list_name_file[index]\n",
    "        path_img = os.path.join(self.path, name_file)\n",
    "\n",
    "        img = np.array(Image.open(path_img))\n",
    "        coords = np.array(self.dict_coords[name_file])\n",
    "\n",
    "        if self.transforn is not None:\n",
    "            img = self.transforn(img)\n",
    "\n",
    "        return img, coords\n",
    "    "
   ]
  },
  {
   "cell_type": "code",
   "execution_count": null,
   "metadata": {},
   "outputs": [],
   "source": [
    "dataset = DatasetReg('/Users/1/OneDrive - НИТУ МИСиС/Учебное/Pytorch_practice-/dataset')"
   ]
  },
  {
   "cell_type": "code",
   "execution_count": null,
   "metadata": {},
   "outputs": [
    {
     "data": {
      "text/plain": [
       "100000"
      ]
     },
     "metadata": {},
     "output_type": "display_data"
    }
   ],
   "source": [
    "len(dataset)"
   ]
  },
  {
   "cell_type": "code",
   "execution_count": null,
   "metadata": {},
   "outputs": [
    {
     "name": "stdout",
     "output_type": "stream",
     "text": [
      "Координаты центра: [26 41]\n"
     ]
    },
    {
     "data": {
      "image/png": "[encoded data removed]",
      "text/plain": [
       "<Figure size 640x480 with 1 Axes>"
      ]
     },
     "metadata": {},
     "output_type": "display_data"
    }
   ],
   "source": [
    "img, coord = dataset[98850]\n",
    "print(f\"Координаты центра: {coord}\")\n",
    "plt.scatter(coord[1],coord[0], marker='o', color= 'red')\n",
    "plt.imshow(img,cmap='gray')\n",
    "plt.show()"
   ]
  },
  {
   "cell_type": "code",
   "execution_count": null,
   "metadata": {},
   "outputs": [],
   "source": [
    "train_set, val_set, test_set = random_split(dataset, [0.7, 0.1, 0.2])"
   ]
  },
  {
   "cell_type": "code",
   "execution_count": null,
   "metadata": {},
   "outputs": [
    {
     "name": "stdout",
     "output_type": "stream",
     "text": [
      "70000\n",
      "10000\n",
      "20000\n"
     ]
    }
   ],
   "source": [
    "print(len(train_set))\n",
    "print(len(val_set))\n",
    "print(len(test_set))"
   ]
  },
  {
   "cell_type": "code",
   "execution_count": null,
   "metadata": {},
   "outputs": [],
   "source": [
    "train_loader = DataLoader(train_set, batch_size=64, shuffle=True)\n",
    "val_loader = DataLoader(val_set, batch_size=64, shuffle=False)\n",
    "test_loader = DataLoader(test_set, batch_size=64, shuffle=False)"
   ]
  },
  {
   "cell_type": "code",
   "execution_count": null,
   "metadata": {},
   "outputs": [],
   "source": []
  }
 ],
 "metadata": {
  "kernelspec": {
   "display_name": "Python 3",
   "language": "python",
   "name": "python3"
  },
  "language_info": {
   "codemirror_mode": {
    "name": "ipython",
    "version": 3
   },
   "file_extension": ".py",
   "mimetype": "text/x-python",
   "name": "python",
   "nbconvert_exporter": "python",
   "pygments_lexer": "ipython3",
   "version": "3.12.2"
  }
 },
 "nbformat": 4,
 "nbformat_minor": 2
}
